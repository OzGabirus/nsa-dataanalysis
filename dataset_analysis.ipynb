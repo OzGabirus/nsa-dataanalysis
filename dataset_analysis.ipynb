{
 "cells": [
  {
   "cell_type": "code",
   "execution_count": null,
   "metadata": {},
   "outputs": [],
   "source": [
    "import numpy as np\n",
    "import pandas as pd\n",
    "import json\n",
    "# import keras"
   ]
  },
  {
   "cell_type": "code",
   "execution_count": null,
   "metadata": {},
   "outputs": [],
   "source": [
    "path = 'datasets/Delhi.csv'\n",
    "df = pd.read_csv(path)\n",
    "# path = 'datasets/Addis.csv'\n",
    "# df2 = pd.read_csv(path)\n",
    "# df = df.append(df2, ignore_index=True)\n",
    "# path = 'datasets/LosAngeles.csv'\n",
    "# df2 = pd.read_csv(path)\n",
    "# df = df.append(df2, ignore_index=True)\n",
    "# print(df.shape)"
   ]
  },
  {
   "cell_type": "code",
   "execution_count": null,
   "metadata": {},
   "outputs": [],
   "source": [
    "coordinates = df['coordinates']\n",
    "lat = [float(x.split(\",\")[0][10:]) for x in coordinates]\n",
    "lon = [float(x.split(\",\")[1][11:-1]) for x in coordinates]\n",
    "\n",
    "datetime = df['date']\n",
    "date = [x[5:15].replace(\"-\",\"\") for x in datetime]\n",
    "time = [x[16:24].replace(\":\",\"\") for x in datetime]\n",
    "gmt = [x[-7:-1] for x in datetime]\n",
    "\n",
    "df.drop(['city', 'attribution', 'location', 'country', 'averagingperiod', 'unit',\n",
    "         'sourcename', 'sourcetype', 'mobile', 'coordinates', 'date'], axis=1, inplace=True)\n",
    "\n",
    "df['latitude'] = lat\n",
    "df['longitude'] = lon\n",
    "df['date'] = date\n",
    "df['time'] = time\n",
    "df['gmt'] = gmt"
   ]
  },
  {
   "cell_type": "code",
   "execution_count": null,
   "metadata": {},
   "outputs": [],
   "source": [
    "df.head(5)"
   ]
  },
  {
   "cell_type": "code",
   "execution_count": null,
   "metadata": {},
   "outputs": [],
   "source": [
    "df['parameter'] = pd.Categorical(df['parameter'])"
   ]
  },
  {
   "cell_type": "code",
   "execution_count": null,
   "metadata": {},
   "outputs": [],
   "source": [
    "display(df.dtypes)"
   ]
  },
  {
   "cell_type": "code",
   "execution_count": null,
   "metadata": {},
   "outputs": [],
   "source": [
    "from sklearn.model_selection import StratifiedShuffleSplit as sss"
   ]
  }
 ],
 "metadata": {
  "kernelspec": {
   "display_name": "Python 3",
   "language": "python",
   "name": "python3"
  },
  "language_info": {
   "codemirror_mode": {
    "name": "ipython",
    "version": 3
   },
   "file_extension": ".py",
   "mimetype": "text/x-python",
   "name": "python",
   "nbconvert_exporter": "python",
   "pygments_lexer": "ipython3",
   "version": "3.6.8"
  }
 },
 "nbformat": 4,
 "nbformat_minor": 4
}
